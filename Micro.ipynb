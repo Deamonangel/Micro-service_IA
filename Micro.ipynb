{
 "cells": [
  {
   "cell_type": "code",
   "execution_count": 18,
   "source": [
    "#Importing Libraries.\n",
    "\n",
    "import pandas as pd\n",
    "import numpy as np \n",
    "import matplotlib.pyplot as plt\n",
    "import seaborn as sns\n",
    "import csv\n",
    "\n",
    "\n",
    "from sklearn.model_selection import train_test_split\n",
    "from sklearn.preprocessing import PolynomialFeatures \n",
    "from sklearn.linear_model import LogisticRegression\n",
    "from sklearn import metrics\n",
    "\n",
    "from sklearn.tree import DecisionTreeClassifier \n",
    "from sklearn.tree import export_graphviz\n",
    "from sklearn import tree\n",
    "import graphviz\n",
    "\n",
    "from sklearn.neighbors import KNeighborsClassifier\n",
    "from sklearn.metrics import classification_report\n",
    "from sklearn.metrics import accuracy_score"
   ],
   "outputs": [],
   "metadata": {}
  },
  {
   "cell_type": "code",
   "execution_count": 27,
   "source": [
    "# Create dataframe\n",
    "\n",
    "np.random.seed(10)\n",
    "number_of_samples = 800\n",
    "frame = pd.DataFrame({\n",
    "    'Unnamed': np.arange(800),\n",
    "    'Age': np.random.randint(low=20,high=60,size=800),\n",
    "    'Win':    np.random.binomial(2,0.1,size=800), #np.random.binomial(size=800, n=1, p= 0.5),\n",
    "    'Player_height(cm)': np.random.randint(low=150,high=230,size=800),\n",
    "    'Player_weight(kg)' : np.random.randint(low=50,high=180,size=800),\n",
    "    'Number_of_losses' : np.random.randint(low=0,high=50,size=800),\n",
    "    'Number_of_wins' : np.random.randint(low=0,high=40,size=800)\n",
    "},columns=['Unnamed','Age','Win','Player_height(cm)','Player_weight(kg)','Number_of_losses','Number_of_wins'])\n",
    "\n",
    "print(frame)"
   ],
   "outputs": [
    {
     "output_type": "stream",
     "name": "stdout",
     "text": [
      "     Unnamed  Age  Win  Player_height(cm)  Player_weight(kg)  \\\n",
      "0          0   29    0                180                102   \n",
      "1          1   56    0                211                101   \n",
      "2          2   35    0                200                 88   \n",
      "3          3   20    2                194                122   \n",
      "4          4   48    0                212                160   \n",
      "..       ...  ...  ...                ...                ...   \n",
      "795      795   39    0                194                 97   \n",
      "796      796   22    0                223                 67   \n",
      "797      797   39    1                213                128   \n",
      "798      798   51    0                181                109   \n",
      "799      799   25    0                223                146   \n",
      "\n",
      "     Number_of_losses  Number_of_wins  \n",
      "0                  13              24  \n",
      "1                   0              18  \n",
      "2                   0              23  \n",
      "3                  11              36  \n",
      "4                   7              18  \n",
      "..                ...             ...  \n",
      "795                 7              14  \n",
      "796                27              36  \n",
      "797                32              12  \n",
      "798                49               3  \n",
      "799                35              12  \n",
      "\n",
      "[800 rows x 7 columns]\n"
     ]
    }
   ],
   "metadata": {}
  },
  {
   "cell_type": "code",
   "execution_count": 28,
   "source": [
    "y = frame['Win']\n",
    "x = frame[['Age','Player_height(cm)','Player_weight(kg)','Number_of_losses','Number_of_wins']]"
   ],
   "outputs": [],
   "metadata": {}
  },
  {
   "cell_type": "code",
   "execution_count": 29,
   "source": [
    "x_train, x_test, y_train, y_test = train_test_split(x, y, test_size = 0.2, random_state = 20) \n",
    "x_train, x_test, y_train, y_test = train_test_split(x, y, train_size = 0.8, random_state = 20)"
   ],
   "outputs": [],
   "metadata": {}
  },
  {
   "cell_type": "code",
   "execution_count": 30,
   "source": [
    "#print some statistical insights.\n",
    "\n",
    "x.describe()"
   ],
   "outputs": [
    {
     "output_type": "execute_result",
     "data": {
      "text/html": [
       "<div>\n",
       "<style scoped>\n",
       "    .dataframe tbody tr th:only-of-type {\n",
       "        vertical-align: middle;\n",
       "    }\n",
       "\n",
       "    .dataframe tbody tr th {\n",
       "        vertical-align: top;\n",
       "    }\n",
       "\n",
       "    .dataframe thead th {\n",
       "        text-align: right;\n",
       "    }\n",
       "</style>\n",
       "<table border=\"1\" class=\"dataframe\">\n",
       "  <thead>\n",
       "    <tr style=\"text-align: right;\">\n",
       "      <th></th>\n",
       "      <th>Age</th>\n",
       "      <th>Player_height(cm)</th>\n",
       "      <th>Player_weight(kg)</th>\n",
       "      <th>Number_of_losses</th>\n",
       "      <th>Number_of_wins</th>\n",
       "    </tr>\n",
       "  </thead>\n",
       "  <tbody>\n",
       "    <tr>\n",
       "      <th>count</th>\n",
       "      <td>800.000000</td>\n",
       "      <td>800.000000</td>\n",
       "      <td>800.000000</td>\n",
       "      <td>800.000000</td>\n",
       "      <td>800.000000</td>\n",
       "    </tr>\n",
       "    <tr>\n",
       "      <th>mean</th>\n",
       "      <td>39.790000</td>\n",
       "      <td>189.978750</td>\n",
       "      <td>113.735000</td>\n",
       "      <td>24.903750</td>\n",
       "      <td>19.357500</td>\n",
       "    </tr>\n",
       "    <tr>\n",
       "      <th>std</th>\n",
       "      <td>11.623351</td>\n",
       "      <td>23.035442</td>\n",
       "      <td>37.593302</td>\n",
       "      <td>14.488422</td>\n",
       "      <td>11.584362</td>\n",
       "    </tr>\n",
       "    <tr>\n",
       "      <th>min</th>\n",
       "      <td>20.000000</td>\n",
       "      <td>150.000000</td>\n",
       "      <td>50.000000</td>\n",
       "      <td>0.000000</td>\n",
       "      <td>0.000000</td>\n",
       "    </tr>\n",
       "    <tr>\n",
       "      <th>25%</th>\n",
       "      <td>29.000000</td>\n",
       "      <td>171.000000</td>\n",
       "      <td>81.000000</td>\n",
       "      <td>12.000000</td>\n",
       "      <td>9.000000</td>\n",
       "    </tr>\n",
       "    <tr>\n",
       "      <th>50%</th>\n",
       "      <td>39.000000</td>\n",
       "      <td>191.000000</td>\n",
       "      <td>112.000000</td>\n",
       "      <td>25.000000</td>\n",
       "      <td>19.000000</td>\n",
       "    </tr>\n",
       "    <tr>\n",
       "      <th>75%</th>\n",
       "      <td>50.000000</td>\n",
       "      <td>209.000000</td>\n",
       "      <td>147.000000</td>\n",
       "      <td>38.000000</td>\n",
       "      <td>29.250000</td>\n",
       "    </tr>\n",
       "    <tr>\n",
       "      <th>max</th>\n",
       "      <td>59.000000</td>\n",
       "      <td>229.000000</td>\n",
       "      <td>179.000000</td>\n",
       "      <td>49.000000</td>\n",
       "      <td>39.000000</td>\n",
       "    </tr>\n",
       "  </tbody>\n",
       "</table>\n",
       "</div>"
      ],
      "text/plain": [
       "              Age  Player_height(cm)  Player_weight(kg)  Number_of_losses  \\\n",
       "count  800.000000         800.000000         800.000000        800.000000   \n",
       "mean    39.790000         189.978750         113.735000         24.903750   \n",
       "std     11.623351          23.035442          37.593302         14.488422   \n",
       "min     20.000000         150.000000          50.000000          0.000000   \n",
       "25%     29.000000         171.000000          81.000000         12.000000   \n",
       "50%     39.000000         191.000000         112.000000         25.000000   \n",
       "75%     50.000000         209.000000         147.000000         38.000000   \n",
       "max     59.000000         229.000000         179.000000         49.000000   \n",
       "\n",
       "       Number_of_wins  \n",
       "count      800.000000  \n",
       "mean        19.357500  \n",
       "std         11.584362  \n",
       "min          0.000000  \n",
       "25%          9.000000  \n",
       "50%         19.000000  \n",
       "75%         29.250000  \n",
       "max         39.000000  "
      ]
     },
     "metadata": {},
     "execution_count": 30
    }
   ],
   "metadata": {}
  },
  {
   "cell_type": "code",
   "execution_count": 31,
   "source": [
    "y.describe()"
   ],
   "outputs": [
    {
     "output_type": "execute_result",
     "data": {
      "text/plain": [
       "count    800.000000\n",
       "mean       0.226250\n",
       "std        0.455874\n",
       "min        0.000000\n",
       "25%        0.000000\n",
       "50%        0.000000\n",
       "75%        0.000000\n",
       "max        2.000000\n",
       "Name: Win, dtype: float64"
      ]
     },
     "metadata": {},
     "execution_count": 31
    }
   ],
   "metadata": {}
  },
  {
   "cell_type": "code",
   "execution_count": 32,
   "source": [
    "#Create KNN Classifier\n",
    "\n",
    "knn = KNeighborsClassifier(n_neighbors=5)\n",
    "\n",
    "#Train the model using the training sets\n",
    "\n",
    "knn.fit(x_train, y_train)\n",
    "\n",
    "#Predict the response for test dataset\n",
    "\n",
    "y_pred = knn.predict(x_test)"
   ],
   "outputs": [],
   "metadata": {}
  },
  {
   "cell_type": "code",
   "execution_count": 33,
   "source": [
    "# Model Accuracy, how often is the classifier correct?\n",
    "\n",
    "print(\"Accuracy:\",metrics.accuracy_score(y_test, y_pred))"
   ],
   "outputs": [
    {
     "output_type": "stream",
     "name": "stdout",
     "text": [
      "Accuracy: 0.7625\n"
     ]
    }
   ],
   "metadata": {}
  },
  {
   "cell_type": "code",
   "execution_count": 34,
   "source": [
    "n_neighbors=30\n",
    "scores=[]\n",
    "for k in range(1,30):\n",
    "    knn=KNeighborsClassifier(n_neighbors-k)\n",
    "    knn.fit(x_train,y_train)\n",
    "    y_pred=knn.predict(x_test)\n",
    "    print('Accuracy for k=',k,'is:',round(accuracy_score(y_pred,y_test),2))\n",
    "    scores.append(round(accuracy_score(y_pred,y_test),2))"
   ],
   "outputs": [
    {
     "output_type": "stream",
     "name": "stdout",
     "text": [
      "Accuracy for k= 1 is: 0.81\n",
      "Accuracy for k= 2 is: 0.81\n",
      "Accuracy for k= 3 is: 0.81\n",
      "Accuracy for k= 4 is: 0.81\n",
      "Accuracy for k= 5 is: 0.81\n",
      "Accuracy for k= 6 is: 0.81\n",
      "Accuracy for k= 7 is: 0.81\n",
      "Accuracy for k= 8 is: 0.81\n",
      "Accuracy for k= 9 is: 0.81\n",
      "Accuracy for k= 10 is: 0.81\n",
      "Accuracy for k= 11 is: 0.81\n",
      "Accuracy for k= 12 is: 0.81\n",
      "Accuracy for k= 13 is: 0.81\n",
      "Accuracy for k= 14 is: 0.81\n",
      "Accuracy for k= 15 is: 0.81\n",
      "Accuracy for k= 16 is: 0.81\n",
      "Accuracy for k= 17 is: 0.81\n",
      "Accuracy for k= 18 is: 0.81\n",
      "Accuracy for k= 19 is: 0.81\n",
      "Accuracy for k= 20 is: 0.81\n",
      "Accuracy for k= 21 is: 0.8\n",
      "Accuracy for k= 22 is: 0.8\n",
      "Accuracy for k= 23 is: 0.8\n",
      "Accuracy for k= 24 is: 0.81\n",
      "Accuracy for k= 25 is: 0.76\n",
      "Accuracy for k= 26 is: 0.78\n",
      "Accuracy for k= 27 is: 0.72\n",
      "Accuracy for k= 28 is: 0.77\n",
      "Accuracy for k= 29 is: 0.67\n"
     ]
    }
   ],
   "metadata": {}
  },
  {
   "cell_type": "code",
   "execution_count": 35,
   "source": [
    "plt.plot(range(1,30),scores)\n",
    "plt.xlabel('Value K for KNN')\n",
    "plt.ylabel('Testing Accuracy')"
   ],
   "outputs": [
    {
     "output_type": "execute_result",
     "data": {
      "text/plain": [
       "Text(0, 0.5, 'Testing Accuracy')"
      ]
     },
     "metadata": {},
     "execution_count": 35
    },
    {
     "output_type": "display_data",
     "data": {
      "image/png": "[encoded data removed]",
      "text/plain": [
       "<Figure size 432x288 with 1 Axes>"
      ]
     },
     "metadata": {
      "needs_background": "light"
     }
    }
   ],
   "metadata": {}
  },
  {
   "cell_type": "code",
   "execution_count": 36,
   "source": [
    "# import the class\n",
    "from sklearn.linear_model import LogisticRegression\n",
    "\n",
    "# instantiate the model (using the default parameters)\n",
    "logreg = LogisticRegression()\n",
    "\n",
    "# fit the model with data\n",
    "logreg.fit(x_train,y_train)\n",
    "\n",
    "#\n",
    "y_pred=logreg.predict(x_test)"
   ],
   "outputs": [
    {
     "output_type": "stream",
     "name": "stderr",
     "text": [
      "/home/haghob/Documents/Hana/env/lib/python3.8/site-packages/sklearn/linear_model/_logistic.py:814: ConvergenceWarning: lbfgs failed to converge (status=1):\n",
      "STOP: TOTAL NO. of ITERATIONS REACHED LIMIT.\n",
      "\n",
      "Increase the number of iterations (max_iter) or scale the data as shown in:\n",
      "    https://scikit-learn.org/stable/modules/preprocessing.html\n",
      "Please also refer to the documentation for alternative solver options:\n",
      "    https://scikit-learn.org/stable/modules/linear_model.html#logistic-regression\n",
      "  n_iter_i = _check_optimize_result(\n"
     ]
    }
   ],
   "metadata": {}
  },
  {
   "cell_type": "code",
   "execution_count": 38,
   "source": [
    "# import the metrics class\n",
    "from sklearn import metrics\n",
    "cnf_matrix = metrics.confusion_matrix(y_test, y_pred)\n",
    "cnf_matrix"
   ],
   "outputs": [
    {
     "output_type": "execute_result",
     "data": {
      "text/plain": [
       "array([[130,   0,   0],\n",
       "       [ 28,   0,   0],\n",
       "       [  2,   0,   0]])"
      ]
     },
     "metadata": {},
     "execution_count": 38
    }
   ],
   "metadata": {}
  },
  {
   "cell_type": "code",
   "execution_count": 39,
   "source": [
    "class_names=[0,1] # name  of classes\n",
    "fig, ax = plt.subplots()\n",
    "tick_marks = np.arange(len(class_names))\n",
    "plt.xticks(tick_marks, class_names)\n",
    "plt.yticks(tick_marks, class_names)\n",
    "# create heatmap\n",
    "sns.heatmap(pd.DataFrame(cnf_matrix), annot=True, cmap=\"YlGnBu\" ,fmt='g')\n",
    "ax.xaxis.set_label_position(\"top\")\n",
    "plt.tight_layout()\n",
    "plt.title('Confusion matrix', y=1.1)\n",
    "plt.ylabel('Actual label')\n",
    "plt.xlabel('Predicted label')"
   ],
   "outputs": [
    {
     "output_type": "execute_result",
     "data": {
      "text/plain": [
       "Text(0.5, 257.44, 'Predicted label')"
      ]
     },
     "metadata": {},
     "execution_count": 39
    },
    {
     "output_type": "display_data",
     "data": {
      "image/png": "[encoded data removed]",
      "text/plain": [
       "<Figure size 432x288 with 2 Axes>"
      ]
     },
     "metadata": {
      "needs_background": "light"
     }
    }
   ],
   "metadata": {}
  },
  {
   "cell_type": "code",
   "execution_count": null,
   "source": [],
   "outputs": [],
   "metadata": {}
  },
  {
   "cell_type": "code",
   "execution_count": null,
   "source": [],
   "outputs": [],
   "metadata": {}
  }
 ],
 "metadata": {
  "orig_nbformat": 4,
  "language_info": {
   "name": "python",
   "version": "3.8.10",
   "mimetype": "text/x-python",
   "codemirror_mode": {
    "name": "ipython",
    "version": 3
   },
   "pygments_lexer": "ipython3",
   "nbconvert_exporter": "python",
   "file_extension": ".py"
  },
  "kernelspec": {
   "name": "python3",
   "display_name": "Python 3.8.10 64-bit ('env': venv)"
  },
  "interpreter": {
   "hash": "079eb2e4429679d7f90ddc0e2bfe8195eb21b1887adf3f23d97ea0a0875b49e7"
  }
 },
 "nbformat": 4,
 "nbformat_minor": 2
}